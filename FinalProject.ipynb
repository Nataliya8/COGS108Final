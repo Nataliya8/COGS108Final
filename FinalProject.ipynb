{
 "cells": [
  {
   "cell_type": "markdown",
   "metadata": {},
   "source": [
    "# COGS 108 - Final Project\n",
    "\n",
    "# Important\n",
    "ONE, and only one, member of your group should upload this notebook to TritonED.\n",
    "Each member of the group will receive the same grade on this assignment.\n",
    "Keep the file name the same: submit the file 'FinalProject.ipynb'.\n",
    "Only upload the .ipynb file to TED, do not upload any associted data. Make sure that for cells in which you want graders to see output that these cells have been executed."
   ]
  },
  {
   "cell_type": "markdown",
   "metadata": {},
   "source": [
    "# Group Members: Fill in the Student IDs of each group member here\n",
    "Replace the lines below to list each persons full student ID, ucsd email and full name.\n",
    "\n",
    "* A11973566 -- mchemele@ucsd.edu -- Maggie Chemelekova\n",
    "* A15673410\n",
    "* A12910452\n",
    "* A13534242\n",
    "* A13410656\n",
    "* A12963052\n",
    "\n",
    "Start your project here."
   ]
  },
  {
   "cell_type": "markdown",
   "metadata": {},
   "source": [
    "# Introduction and Background\n",
    "\n",
    "We were interested in determining whether or not different categories of videos influence their popularity, as well as if a difference in region influences their popularity as well. \n",
    "\n",
    "In a kaggle data visualization “Exploring Youtube Trending Statistics EDA” by user Donyoe, the author creates a series of graphs based on raw youtube data, such as views and likes/dislikes. One graph set that we looked at was Top Countries in Absolute numbers, which categorized 5 countries by views, likes, dislikes, and comments by country. We became interested if some countries make videos trend faster or not, as while views and like are similar for all countries, France has a much larger amount of comments than all other countries, which are all relatively the same. Since there is such a disparity between the comments in France when compared to the other regions, our project hopes to tackle this disparity by trying to find if the region where the video is uploaded affects their time to trending. This dataset, while giving us the inspiration to tackle whether the region affects a video’s popularity, it is not the whole of our question.\n",
    "\n",
    "The other research article that helped us was the Youtube-8M dataset, which was a dataset created by members of the Google AI Perception group that categorizes 6.1 million public youtube videos that have over 1000 views. This dataset had a histogram which showed the total number of videos by category, and reveals that Arts & Entertainment are the most uploaded video type.Taking a look at the trending section on youtube, which shows that while there were a variety of categories among trending videos, the most predominant category on the trending section tended to be entertainment videos. Taking both these sources, combined with other categories shown in the kaggle data visualization led us to question whether or not different category types influence the popularity of videos.\n",
    "\n",
    "References (include links):\n",
    "* https://www.kaggle.com/donyoe/exploring-youtube-trending-statistics-eda\n",
    "* https://research.google.com/youtube8m/index.html\n",
    "* https://www.youtube.com/feed/trending\n",
    "\n",
    "#### Our research question: \n",
    "Does category influence popularity (likes, dislikes, views, tags, etc.) and if so, does it influence differently between different groups (e.g. Europeans vs. North Americans)\n",
    "\n",
    "#### Our main hypothesis and predictions?\n",
    "YouTube videos involving animals are more popular in North America than they are in Europe. "
   ]
  },
  {
   "cell_type": "markdown",
   "metadata": {},
   "source": [
    "# Data Description\n",
    "\n",
    "#### Dataset Name: Trending YouTube Video Statistics\n",
    "\n",
    "#### Link to the dataset: https://www.kaggle.com/datasnaek/youtube-new \n",
    "\n",
    "#### Number of observations: 40950\n",
    "\n",
    "#### 1-2 sentences describing the dataset:\n",
    "This dataset consists of daily statistics for trending YouTube videos in 5 different countries - US, Canada, Great Britain, France, and Germany. It has 40950 observations and the features it contains are: video_id, trending_date, title, channel_title, category_id, publish_time, tags, views (total number of views), likes (total number of likes), dislikes (total number of dislikes), comments_count, thumbnail_link, comments_disabled (true or false), ratings_disabled (true or false), video_error_or_removed (true or false), and description.\n"
   ]
  },
  {
   "cell_type": "markdown",
   "metadata": {},
   "source": [
    "# Data Cleaning/Pre-Processing\n",
    "\n",
    "*** done by Maggie"
   ]
  },
  {
   "cell_type": "code",
   "execution_count": 1,
   "metadata": {},
   "outputs": [],
   "source": [
    "# Display plots directly in the notebook instead of in a new window\n",
    "%matplotlib inline\n",
    "\n",
    "# Import libraries\n",
    "import numpy as np\n",
    "import pandas as pd\n",
    "import matplotlib.pyplot as plt\n",
    "import seaborn as sns\n",
    "\n",
    "import patsy\n",
    "import statsmodels.api as sm\n",
    "import scipy.stats as stats\n",
    "from scipy.stats import ttest_ind, chisquare, normaltest"
   ]
  },
  {
   "cell_type": "code",
   "execution_count": 2,
   "metadata": {},
   "outputs": [],
   "source": [
    "# Configure libraries\n",
    "# The seaborn library makes plots look nicer\n",
    "sns.set()\n",
    "sns.set_context('talk')\n",
    "\n",
    "# Round decimals when displaying DataFrames\n",
    "pd.set_option('precision', 2)"
   ]
  },
  {
   "cell_type": "code",
   "execution_count": 3,
   "metadata": {},
   "outputs": [],
   "source": [
    "# import data into DataFrames\n",
    "\n",
    "us_videos = pd.read_csv('US_videos.csv')\n",
    "canada_videos = pd.read_csv('Canada_videos.csv')\n",
    "great_britain_videos = pd.read_csv('Great_Britain_videos.csv')\n",
    "france_videos = pd.read_csv('France_videos.csv')\n",
    "germany_videos = pd.read_csv('Germany_videos.csv')"
   ]
  },
  {
   "cell_type": "code",
   "execution_count": 4,
   "metadata": {},
   "outputs": [
    {
     "data": {
      "text/html": [
       "<div>\n",
       "<style scoped>\n",
       "    .dataframe tbody tr th:only-of-type {\n",
       "        vertical-align: middle;\n",
       "    }\n",
       "\n",
       "    .dataframe tbody tr th {\n",
       "        vertical-align: top;\n",
       "    }\n",
       "\n",
       "    .dataframe thead th {\n",
       "        text-align: right;\n",
       "    }\n",
       "</style>\n",
       "<table border=\"1\" class=\"dataframe\">\n",
       "  <thead>\n",
       "    <tr style=\"text-align: right;\">\n",
       "      <th></th>\n",
       "      <th>video_id</th>\n",
       "      <th>trending_date</th>\n",
       "      <th>title</th>\n",
       "      <th>channel_title</th>\n",
       "      <th>category_id</th>\n",
       "      <th>publish_time</th>\n",
       "      <th>tags</th>\n",
       "      <th>views</th>\n",
       "      <th>likes</th>\n",
       "      <th>dislikes</th>\n",
       "      <th>comment_count</th>\n",
       "      <th>thumbnail_link</th>\n",
       "      <th>comments_disabled</th>\n",
       "      <th>ratings_disabled</th>\n",
       "      <th>video_error_or_removed</th>\n",
       "      <th>description</th>\n",
       "    </tr>\n",
       "  </thead>\n",
       "  <tbody>\n",
       "    <tr>\n",
       "      <th>0</th>\n",
       "      <td>2kyS6SvSYSE</td>\n",
       "      <td>17.14.11</td>\n",
       "      <td>WE WANT TO TALK ABOUT OUR MARRIAGE</td>\n",
       "      <td>CaseyNeistat</td>\n",
       "      <td>22</td>\n",
       "      <td>2017-11-13T17:13:01.000Z</td>\n",
       "      <td>SHANtell martin</td>\n",
       "      <td>748374</td>\n",
       "      <td>57527</td>\n",
       "      <td>2966</td>\n",
       "      <td>15954</td>\n",
       "      <td>https://i.ytimg.com/vi/2kyS6SvSYSE/default.jpg</td>\n",
       "      <td>False</td>\n",
       "      <td>False</td>\n",
       "      <td>False</td>\n",
       "      <td>SHANTELL'S CHANNEL - https://www.youtube.com/s...</td>\n",
       "    </tr>\n",
       "    <tr>\n",
       "      <th>1</th>\n",
       "      <td>1ZAPwfrtAFY</td>\n",
       "      <td>17.14.11</td>\n",
       "      <td>The Trump Presidency: Last Week Tonight with J...</td>\n",
       "      <td>LastWeekTonight</td>\n",
       "      <td>24</td>\n",
       "      <td>2017-11-13T07:30:00.000Z</td>\n",
       "      <td>last week tonight trump presidency|\"last week ...</td>\n",
       "      <td>2418783</td>\n",
       "      <td>97185</td>\n",
       "      <td>6146</td>\n",
       "      <td>12703</td>\n",
       "      <td>https://i.ytimg.com/vi/1ZAPwfrtAFY/default.jpg</td>\n",
       "      <td>False</td>\n",
       "      <td>False</td>\n",
       "      <td>False</td>\n",
       "      <td>One year after the presidential election, John...</td>\n",
       "    </tr>\n",
       "    <tr>\n",
       "      <th>2</th>\n",
       "      <td>5qpjK5DgCt4</td>\n",
       "      <td>17.14.11</td>\n",
       "      <td>Racist Superman | Rudy Mancuso, King Bach &amp; Le...</td>\n",
       "      <td>Rudy Mancuso</td>\n",
       "      <td>23</td>\n",
       "      <td>2017-11-12T19:05:24.000Z</td>\n",
       "      <td>racist superman|\"rudy\"|\"mancuso\"|\"king\"|\"bach\"...</td>\n",
       "      <td>3191434</td>\n",
       "      <td>146033</td>\n",
       "      <td>5339</td>\n",
       "      <td>8181</td>\n",
       "      <td>https://i.ytimg.com/vi/5qpjK5DgCt4/default.jpg</td>\n",
       "      <td>False</td>\n",
       "      <td>False</td>\n",
       "      <td>False</td>\n",
       "      <td>WATCH MY PREVIOUS VIDEO ▶ \\n\\nSUBSCRIBE ► http...</td>\n",
       "    </tr>\n",
       "    <tr>\n",
       "      <th>3</th>\n",
       "      <td>puqaWrEC7tY</td>\n",
       "      <td>17.14.11</td>\n",
       "      <td>Nickelback Lyrics: Real or Fake?</td>\n",
       "      <td>Good Mythical Morning</td>\n",
       "      <td>24</td>\n",
       "      <td>2017-11-13T11:00:04.000Z</td>\n",
       "      <td>rhett and link|\"gmm\"|\"good mythical morning\"|\"...</td>\n",
       "      <td>343168</td>\n",
       "      <td>10172</td>\n",
       "      <td>666</td>\n",
       "      <td>2146</td>\n",
       "      <td>https://i.ytimg.com/vi/puqaWrEC7tY/default.jpg</td>\n",
       "      <td>False</td>\n",
       "      <td>False</td>\n",
       "      <td>False</td>\n",
       "      <td>Today we find out if Link is a Nickelback amat...</td>\n",
       "    </tr>\n",
       "    <tr>\n",
       "      <th>4</th>\n",
       "      <td>d380meD0W0M</td>\n",
       "      <td>17.14.11</td>\n",
       "      <td>I Dare You: GOING BALD!?</td>\n",
       "      <td>nigahiga</td>\n",
       "      <td>24</td>\n",
       "      <td>2017-11-12T18:01:41.000Z</td>\n",
       "      <td>ryan|\"higa\"|\"higatv\"|\"nigahiga\"|\"i dare you\"|\"...</td>\n",
       "      <td>2095731</td>\n",
       "      <td>132235</td>\n",
       "      <td>1989</td>\n",
       "      <td>17518</td>\n",
       "      <td>https://i.ytimg.com/vi/d380meD0W0M/default.jpg</td>\n",
       "      <td>False</td>\n",
       "      <td>False</td>\n",
       "      <td>False</td>\n",
       "      <td>I know it's been a while since we did this sho...</td>\n",
       "    </tr>\n",
       "  </tbody>\n",
       "</table>\n",
       "</div>"
      ],
      "text/plain": [
       "      video_id trending_date  \\\n",
       "0  2kyS6SvSYSE      17.14.11   \n",
       "1  1ZAPwfrtAFY      17.14.11   \n",
       "2  5qpjK5DgCt4      17.14.11   \n",
       "3  puqaWrEC7tY      17.14.11   \n",
       "4  d380meD0W0M      17.14.11   \n",
       "\n",
       "                                               title          channel_title  \\\n",
       "0                 WE WANT TO TALK ABOUT OUR MARRIAGE           CaseyNeistat   \n",
       "1  The Trump Presidency: Last Week Tonight with J...        LastWeekTonight   \n",
       "2  Racist Superman | Rudy Mancuso, King Bach & Le...           Rudy Mancuso   \n",
       "3                   Nickelback Lyrics: Real or Fake?  Good Mythical Morning   \n",
       "4                           I Dare You: GOING BALD!?               nigahiga   \n",
       "\n",
       "   category_id              publish_time  \\\n",
       "0           22  2017-11-13T17:13:01.000Z   \n",
       "1           24  2017-11-13T07:30:00.000Z   \n",
       "2           23  2017-11-12T19:05:24.000Z   \n",
       "3           24  2017-11-13T11:00:04.000Z   \n",
       "4           24  2017-11-12T18:01:41.000Z   \n",
       "\n",
       "                                                tags    views   likes  \\\n",
       "0                                    SHANtell martin   748374   57527   \n",
       "1  last week tonight trump presidency|\"last week ...  2418783   97185   \n",
       "2  racist superman|\"rudy\"|\"mancuso\"|\"king\"|\"bach\"...  3191434  146033   \n",
       "3  rhett and link|\"gmm\"|\"good mythical morning\"|\"...   343168   10172   \n",
       "4  ryan|\"higa\"|\"higatv\"|\"nigahiga\"|\"i dare you\"|\"...  2095731  132235   \n",
       "\n",
       "   dislikes  comment_count                                  thumbnail_link  \\\n",
       "0      2966          15954  https://i.ytimg.com/vi/2kyS6SvSYSE/default.jpg   \n",
       "1      6146          12703  https://i.ytimg.com/vi/1ZAPwfrtAFY/default.jpg   \n",
       "2      5339           8181  https://i.ytimg.com/vi/5qpjK5DgCt4/default.jpg   \n",
       "3       666           2146  https://i.ytimg.com/vi/puqaWrEC7tY/default.jpg   \n",
       "4      1989          17518  https://i.ytimg.com/vi/d380meD0W0M/default.jpg   \n",
       "\n",
       "   comments_disabled  ratings_disabled  video_error_or_removed  \\\n",
       "0              False             False                   False   \n",
       "1              False             False                   False   \n",
       "2              False             False                   False   \n",
       "3              False             False                   False   \n",
       "4              False             False                   False   \n",
       "\n",
       "                                         description  \n",
       "0  SHANTELL'S CHANNEL - https://www.youtube.com/s...  \n",
       "1  One year after the presidential election, John...  \n",
       "2  WATCH MY PREVIOUS VIDEO ▶ \\n\\nSUBSCRIBE ► http...  \n",
       "3  Today we find out if Link is a Nickelback amat...  \n",
       "4  I know it's been a while since we did this sho...  "
      ]
     },
     "execution_count": 4,
     "metadata": {},
     "output_type": "execute_result"
    }
   ],
   "source": [
    "# Check out the data\n",
    "\n",
    "us_videos.head(5)"
   ]
  },
  {
   "cell_type": "code",
   "execution_count": 5,
   "metadata": {},
   "outputs": [
    {
     "data": {
      "text/html": [
       "<div>\n",
       "<style scoped>\n",
       "    .dataframe tbody tr th:only-of-type {\n",
       "        vertical-align: middle;\n",
       "    }\n",
       "\n",
       "    .dataframe tbody tr th {\n",
       "        vertical-align: top;\n",
       "    }\n",
       "\n",
       "    .dataframe thead th {\n",
       "        text-align: right;\n",
       "    }\n",
       "</style>\n",
       "<table border=\"1\" class=\"dataframe\">\n",
       "  <thead>\n",
       "    <tr style=\"text-align: right;\">\n",
       "      <th></th>\n",
       "      <th>trending_date</th>\n",
       "      <th>title</th>\n",
       "      <th>channel_title</th>\n",
       "      <th>category_id</th>\n",
       "      <th>publish_time</th>\n",
       "      <th>tags</th>\n",
       "      <th>views</th>\n",
       "      <th>likes</th>\n",
       "      <th>dislikes</th>\n",
       "      <th>comment_count</th>\n",
       "      <th>description</th>\n",
       "    </tr>\n",
       "  </thead>\n",
       "  <tbody>\n",
       "    <tr>\n",
       "      <th>0</th>\n",
       "      <td>17.14.11</td>\n",
       "      <td>WE WANT TO TALK ABOUT OUR MARRIAGE</td>\n",
       "      <td>CaseyNeistat</td>\n",
       "      <td>22</td>\n",
       "      <td>2017-11-13T17:13:01.000Z</td>\n",
       "      <td>SHANtell martin</td>\n",
       "      <td>748374</td>\n",
       "      <td>57527</td>\n",
       "      <td>2966</td>\n",
       "      <td>15954</td>\n",
       "      <td>SHANTELL'S CHANNEL - https://www.youtube.com/s...</td>\n",
       "    </tr>\n",
       "    <tr>\n",
       "      <th>1</th>\n",
       "      <td>17.14.11</td>\n",
       "      <td>The Trump Presidency: Last Week Tonight with J...</td>\n",
       "      <td>LastWeekTonight</td>\n",
       "      <td>24</td>\n",
       "      <td>2017-11-13T07:30:00.000Z</td>\n",
       "      <td>last week tonight trump presidency|\"last week ...</td>\n",
       "      <td>2418783</td>\n",
       "      <td>97185</td>\n",
       "      <td>6146</td>\n",
       "      <td>12703</td>\n",
       "      <td>One year after the presidential election, John...</td>\n",
       "    </tr>\n",
       "    <tr>\n",
       "      <th>2</th>\n",
       "      <td>17.14.11</td>\n",
       "      <td>Racist Superman | Rudy Mancuso, King Bach &amp; Le...</td>\n",
       "      <td>Rudy Mancuso</td>\n",
       "      <td>23</td>\n",
       "      <td>2017-11-12T19:05:24.000Z</td>\n",
       "      <td>racist superman|\"rudy\"|\"mancuso\"|\"king\"|\"bach\"...</td>\n",
       "      <td>3191434</td>\n",
       "      <td>146033</td>\n",
       "      <td>5339</td>\n",
       "      <td>8181</td>\n",
       "      <td>WATCH MY PREVIOUS VIDEO ▶ \\n\\nSUBSCRIBE ► http...</td>\n",
       "    </tr>\n",
       "    <tr>\n",
       "      <th>3</th>\n",
       "      <td>17.14.11</td>\n",
       "      <td>Nickelback Lyrics: Real or Fake?</td>\n",
       "      <td>Good Mythical Morning</td>\n",
       "      <td>24</td>\n",
       "      <td>2017-11-13T11:00:04.000Z</td>\n",
       "      <td>rhett and link|\"gmm\"|\"good mythical morning\"|\"...</td>\n",
       "      <td>343168</td>\n",
       "      <td>10172</td>\n",
       "      <td>666</td>\n",
       "      <td>2146</td>\n",
       "      <td>Today we find out if Link is a Nickelback amat...</td>\n",
       "    </tr>\n",
       "    <tr>\n",
       "      <th>4</th>\n",
       "      <td>17.14.11</td>\n",
       "      <td>I Dare You: GOING BALD!?</td>\n",
       "      <td>nigahiga</td>\n",
       "      <td>24</td>\n",
       "      <td>2017-11-12T18:01:41.000Z</td>\n",
       "      <td>ryan|\"higa\"|\"higatv\"|\"nigahiga\"|\"i dare you\"|\"...</td>\n",
       "      <td>2095731</td>\n",
       "      <td>132235</td>\n",
       "      <td>1989</td>\n",
       "      <td>17518</td>\n",
       "      <td>I know it's been a while since we did this sho...</td>\n",
       "    </tr>\n",
       "  </tbody>\n",
       "</table>\n",
       "</div>"
      ],
      "text/plain": [
       "  trending_date                                              title  \\\n",
       "0      17.14.11                 WE WANT TO TALK ABOUT OUR MARRIAGE   \n",
       "1      17.14.11  The Trump Presidency: Last Week Tonight with J...   \n",
       "2      17.14.11  Racist Superman | Rudy Mancuso, King Bach & Le...   \n",
       "3      17.14.11                   Nickelback Lyrics: Real or Fake?   \n",
       "4      17.14.11                           I Dare You: GOING BALD!?   \n",
       "\n",
       "           channel_title  category_id              publish_time  \\\n",
       "0           CaseyNeistat           22  2017-11-13T17:13:01.000Z   \n",
       "1        LastWeekTonight           24  2017-11-13T07:30:00.000Z   \n",
       "2           Rudy Mancuso           23  2017-11-12T19:05:24.000Z   \n",
       "3  Good Mythical Morning           24  2017-11-13T11:00:04.000Z   \n",
       "4               nigahiga           24  2017-11-12T18:01:41.000Z   \n",
       "\n",
       "                                                tags    views   likes  \\\n",
       "0                                    SHANtell martin   748374   57527   \n",
       "1  last week tonight trump presidency|\"last week ...  2418783   97185   \n",
       "2  racist superman|\"rudy\"|\"mancuso\"|\"king\"|\"bach\"...  3191434  146033   \n",
       "3  rhett and link|\"gmm\"|\"good mythical morning\"|\"...   343168   10172   \n",
       "4  ryan|\"higa\"|\"higatv\"|\"nigahiga\"|\"i dare you\"|\"...  2095731  132235   \n",
       "\n",
       "   dislikes  comment_count                                        description  \n",
       "0      2966          15954  SHANTELL'S CHANNEL - https://www.youtube.com/s...  \n",
       "1      6146          12703  One year after the presidential election, John...  \n",
       "2      5339           8181  WATCH MY PREVIOUS VIDEO ▶ \\n\\nSUBSCRIBE ► http...  \n",
       "3       666           2146  Today we find out if Link is a Nickelback amat...  \n",
       "4      1989          17518  I know it's been a while since we did this sho...  "
      ]
     },
     "execution_count": 5,
     "metadata": {},
     "output_type": "execute_result"
    }
   ],
   "source": [
    "# drop unecessary columns from DataFrame\n",
    "\n",
    "us_videos.drop(labels=['video_id', 'thumbnail_link', 'comments_disabled', \n",
    "                              'ratings_disabled', 'video_error_or_removed'], axis = 1, inplace = True)\n",
    "us_videos.head(5)"
   ]
  },
  {
   "cell_type": "code",
   "execution_count": 6,
   "metadata": {},
   "outputs": [],
   "source": [
    "canada_videos.drop(labels=['video_id', 'thumbnail_link', 'comments_disabled', \n",
    "                              'ratings_disabled', 'video_error_or_removed'], axis = 1, inplace = True)\n",
    "\n",
    "france_videos.drop(labels=['video_id', 'thumbnail_link', 'comments_disabled', \n",
    "                              'ratings_disabled', 'video_error_or_removed'], axis = 1, inplace = True)\n",
    "\n",
    "germany_videos.drop(labels=['video_id', 'thumbnail_link', 'comments_disabled', \n",
    "                              'ratings_disabled', 'video_error_or_removed'], axis = 1, inplace = True)\n",
    "\n",
    "great_britain_videos.drop(labels=['video_id', 'thumbnail_link', 'comments_disabled', \n",
    "                              'ratings_disabled', 'video_error_or_removed'], axis = 1, inplace = True)"
   ]
  },
  {
   "cell_type": "code",
   "execution_count": 7,
   "metadata": {},
   "outputs": [],
   "source": [
    "# Renaming the columns of the dataframe\n",
    "\n",
    "us_videos.columns = [\"trendingDate\", \"title\", \"channel\", \"category\", \"published\", \"tags\", \"views\",\n",
    "              \"likes\", \"dislikes\", \"comments\", \"description\"]\n",
    "\n",
    "canada_videos.columns = [\"trendingDate\", \"title\", \"channel\", \"category\", \"published\", \"tags\", \"views\",\n",
    "              \"likes\", \"dislikes\", \"comments\", \"description\"]\n",
    "\n",
    "france_videos.columns = [\"trendingDate\", \"title\", \"channel\", \"category\", \"published\", \"tags\", \"views\",\n",
    "              \"likes\", \"dislikes\", \"comments\", \"description\"]\n",
    "\n",
    "germany_videos.columns = [\"trendingDate\", \"title\", \"channel\", \"category\", \"published\", \"tags\", \"views\",\n",
    "              \"likes\", \"dislikes\", \"comments\", \"description\"]\n",
    "\n",
    "great_britain_videos.columns = [\"trendingDate\", \"title\", \"channel\", \"category\", \"published\", \"tags\", \"views\",\n",
    "              \"likes\", \"dislikes\", \"comments\", \"description\"]"
   ]
  },
  {
   "cell_type": "code",
   "execution_count": 8,
   "metadata": {},
   "outputs": [
    {
     "data": {
      "text/html": [
       "<div>\n",
       "<style scoped>\n",
       "    .dataframe tbody tr th:only-of-type {\n",
       "        vertical-align: middle;\n",
       "    }\n",
       "\n",
       "    .dataframe tbody tr th {\n",
       "        vertical-align: top;\n",
       "    }\n",
       "\n",
       "    .dataframe thead th {\n",
       "        text-align: right;\n",
       "    }\n",
       "</style>\n",
       "<table border=\"1\" class=\"dataframe\">\n",
       "  <thead>\n",
       "    <tr style=\"text-align: right;\">\n",
       "      <th></th>\n",
       "      <th>trendingDate</th>\n",
       "      <th>title</th>\n",
       "      <th>channel</th>\n",
       "      <th>category</th>\n",
       "      <th>published</th>\n",
       "      <th>tags</th>\n",
       "      <th>views</th>\n",
       "      <th>likes</th>\n",
       "      <th>dislikes</th>\n",
       "      <th>comments</th>\n",
       "      <th>description</th>\n",
       "    </tr>\n",
       "  </thead>\n",
       "  <tbody>\n",
       "    <tr>\n",
       "      <th>0</th>\n",
       "      <td>17.14.11</td>\n",
       "      <td>WE WANT TO TALK ABOUT OUR MARRIAGE</td>\n",
       "      <td>CaseyNeistat</td>\n",
       "      <td>22</td>\n",
       "      <td>2017-11-13T17:13:01.000Z</td>\n",
       "      <td>SHANtell martin</td>\n",
       "      <td>748374</td>\n",
       "      <td>57527</td>\n",
       "      <td>2966</td>\n",
       "      <td>15954</td>\n",
       "      <td>SHANTELL'S CHANNEL - https://www.youtube.com/s...</td>\n",
       "    </tr>\n",
       "    <tr>\n",
       "      <th>1</th>\n",
       "      <td>17.14.11</td>\n",
       "      <td>The Trump Presidency: Last Week Tonight with J...</td>\n",
       "      <td>LastWeekTonight</td>\n",
       "      <td>24</td>\n",
       "      <td>2017-11-13T07:30:00.000Z</td>\n",
       "      <td>last week tonight trump presidency|\"last week ...</td>\n",
       "      <td>2418783</td>\n",
       "      <td>97185</td>\n",
       "      <td>6146</td>\n",
       "      <td>12703</td>\n",
       "      <td>One year after the presidential election, John...</td>\n",
       "    </tr>\n",
       "  </tbody>\n",
       "</table>\n",
       "</div>"
      ],
      "text/plain": [
       "  trendingDate                                              title  \\\n",
       "0     17.14.11                 WE WANT TO TALK ABOUT OUR MARRIAGE   \n",
       "1     17.14.11  The Trump Presidency: Last Week Tonight with J...   \n",
       "\n",
       "           channel  category                 published  \\\n",
       "0     CaseyNeistat        22  2017-11-13T17:13:01.000Z   \n",
       "1  LastWeekTonight        24  2017-11-13T07:30:00.000Z   \n",
       "\n",
       "                                                tags    views  likes  \\\n",
       "0                                    SHANtell martin   748374  57527   \n",
       "1  last week tonight trump presidency|\"last week ...  2418783  97185   \n",
       "\n",
       "   dislikes  comments                                        description  \n",
       "0      2966     15954  SHANTELL'S CHANNEL - https://www.youtube.com/s...  \n",
       "1      6146     12703  One year after the presidential election, John...  "
      ]
     },
     "execution_count": 8,
     "metadata": {},
     "output_type": "execute_result"
    }
   ],
   "source": [
    "us_videos.head(2)"
   ]
  },
  {
   "cell_type": "code",
   "execution_count": 9,
   "metadata": {},
   "outputs": [],
   "source": [
    "# Drop any rows with missing data, but only for the columns \"category\", \"likes\", \"views\", \"dislikes\", \"comments\"\n",
    "\n",
    "us_videos.dropna(subset=['category','likes', 'views', 'dislikes', 'comments'], inplace = True)\n",
    "\n",
    "canada_videos.dropna(subset=['category','likes', 'views', 'dislikes', 'comments'], inplace = True)\n",
    "\n",
    "france_videos.dropna(subset=['category','likes', 'views', 'dislikes', 'comments'], inplace = True)\n",
    "\n",
    "germany_videos.dropna(subset=['category','likes', 'views', 'dislikes', 'comments'], inplace = True)\n",
    "\n",
    "great_britain_videos.dropna(subset=['category','likes', 'views', 'dislikes', 'comments'], inplace = True)\n",
    "\n",
    "#us_videos"
   ]
  },
  {
   "cell_type": "code",
   "execution_count": 10,
   "metadata": {},
   "outputs": [
    {
     "data": {
      "text/plain": [
       "array([22, 24, 23, 28,  1, 25, 17, 10, 15, 27, 26,  2, 19, 20, 29, 43],\n",
       "      dtype=int64)"
      ]
     },
     "execution_count": 10,
     "metadata": {},
     "output_type": "execute_result"
    }
   ],
   "source": [
    "us_videos[\"category\"].unique()"
   ]
  },
  {
   "cell_type": "code",
   "execution_count": 11,
   "metadata": {},
   "outputs": [
    {
     "data": {
      "text/plain": [
       "array([10, 23, 24, 25, 22, 26,  1, 28, 20, 17, 29, 15, 19,  2, 27, 43, 30],\n",
       "      dtype=int64)"
      ]
     },
     "execution_count": 11,
     "metadata": {},
     "output_type": "execute_result"
    }
   ],
   "source": [
    "canada_videos[\"category\"].unique()"
   ]
  },
  {
   "cell_type": "code",
   "execution_count": 12,
   "metadata": {},
   "outputs": [
    {
     "data": {
      "text/plain": [
       "array([24, 23, 20, 17, 22, 27, 26, 28,  2, 25,  1, 10, 43, 19, 15, 29, 30,\n",
       "       44], dtype=int64)"
      ]
     },
     "execution_count": 12,
     "metadata": {},
     "output_type": "execute_result"
    }
   ],
   "source": [
    "france_videos[\"category\"].unique()"
   ]
  },
  {
   "cell_type": "code",
   "execution_count": 13,
   "metadata": {},
   "outputs": [
    {
     "data": {
      "text/plain": [
       "array([24, 23, 27, 22,  1,  2, 17, 26, 25, 10, 20, 43, 28, 29, 15, 19, 44,\n",
       "       30], dtype=int64)"
      ]
     },
     "execution_count": 13,
     "metadata": {},
     "output_type": "execute_result"
    }
   ],
   "source": [
    "germany_videos[\"category\"].unique()"
   ]
  },
  {
   "cell_type": "code",
   "execution_count": 14,
   "metadata": {},
   "outputs": [
    {
     "data": {
      "text/plain": [
       "array([26, 24, 10, 17, 25, 22, 23, 28, 15, 27,  1, 20,  2, 19, 29, 43],\n",
       "      dtype=int64)"
      ]
     },
     "execution_count": 14,
     "metadata": {},
     "output_type": "execute_result"
    }
   ],
   "source": [
    "great_britain_videos[\"category\"].unique()"
   ]
  },
  {
   "cell_type": "code",
   "execution_count": 15,
   "metadata": {},
   "outputs": [
    {
     "data": {
      "text/plain": [
       "24    9964\n",
       "10    6472\n",
       "26    4146\n",
       "23    3457\n",
       "22    3210\n",
       "25    2487\n",
       "28    2401\n",
       "1     2345\n",
       "17    2174\n",
       "27    1656\n",
       "15     920\n",
       "20     817\n",
       "19     402\n",
       "2      384\n",
       "29      57\n",
       "43      57\n",
       "Name: category, dtype: int64"
      ]
     },
     "execution_count": 15,
     "metadata": {},
     "output_type": "execute_result"
    }
   ],
   "source": [
    "us_videos[\"category\"].value_counts()"
   ]
  },
  {
   "cell_type": "code",
   "execution_count": 16,
   "metadata": {},
   "outputs": [
    {
     "data": {
      "text/plain": [
       "24    13451\n",
       "25     4159\n",
       "22     4105\n",
       "23     3773\n",
       "10     3731\n",
       "17     2787\n",
       "1      2060\n",
       "26     2007\n",
       "20     1344\n",
       "28     1155\n",
       "27      991\n",
       "19      392\n",
       "15      369\n",
       "2       353\n",
       "43      124\n",
       "29       74\n",
       "30        6\n",
       "Name: category, dtype: int64"
      ]
     },
     "execution_count": 16,
     "metadata": {},
     "output_type": "execute_result"
    }
   ],
   "source": [
    "canada_videos[\"category\"].value_counts()"
   ]
  },
  {
   "cell_type": "code",
   "execution_count": 17,
   "metadata": {},
   "outputs": [
    {
     "data": {
      "text/plain": [
       "24    9819\n",
       "22    5719\n",
       "23    4343\n",
       "17    4342\n",
       "10    3946\n",
       "25    3752\n",
       "26    2361\n",
       "1     2157\n",
       "20    1459\n",
       "28     802\n",
       "27     769\n",
       "2      673\n",
       "15     237\n",
       "19     119\n",
       "29     114\n",
       "43      99\n",
       "30      11\n",
       "44       2\n",
       "Name: category, dtype: int64"
      ]
     },
     "execution_count": 17,
     "metadata": {},
     "output_type": "execute_result"
    }
   ],
   "source": [
    "france_videos[\"category\"].value_counts()"
   ]
  },
  {
   "cell_type": "code",
   "execution_count": 18,
   "metadata": {},
   "outputs": [
    {
     "data": {
      "text/plain": [
       "24    15292\n",
       "22     5988\n",
       "25     2935\n",
       "17     2752\n",
       "23     2534\n",
       "1      2376\n",
       "10     2372\n",
       "26     1745\n",
       "20     1565\n",
       "2       873\n",
       "27      844\n",
       "28      806\n",
       "29      256\n",
       "15      251\n",
       "19      141\n",
       "43      107\n",
       "30        2\n",
       "44        1\n",
       "Name: category, dtype: int64"
      ]
     },
     "execution_count": 18,
     "metadata": {},
     "output_type": "execute_result"
    }
   ],
   "source": [
    "germany_videos[\"category\"].value_counts()"
   ]
  },
  {
   "cell_type": "code",
   "execution_count": 19,
   "metadata": {},
   "outputs": [
    {
     "data": {
      "text/plain": [
       "10    13754\n",
       "24     9124\n",
       "22     2926\n",
       "1      2577\n",
       "26     1928\n",
       "17     1907\n",
       "23     1828\n",
       "20     1788\n",
       "25     1225\n",
       "15      534\n",
       "28      518\n",
       "27      457\n",
       "2       144\n",
       "19       96\n",
       "29       90\n",
       "43       20\n",
       "Name: category, dtype: int64"
      ]
     },
     "execution_count": 19,
     "metadata": {},
     "output_type": "execute_result"
    }
   ],
   "source": [
    "great_britain_videos[\"category\"].value_counts()"
   ]
  },
  {
   "cell_type": "markdown",
   "metadata": {},
   "source": [
    "# Data Visualization\n",
    "\n",
    "*** TO DO!!! still needs to be done"
   ]
  },
  {
   "cell_type": "code",
   "execution_count": null,
   "metadata": {},
   "outputs": [],
   "source": [
    "# plot the data, using scatter_matrix, from Pandas.\n",
    "\n",
    "fig = pd.plotting.scatter_matrix(us_videos)"
   ]
  },
  {
   "cell_type": "code",
   "execution_count": null,
   "metadata": {},
   "outputs": [],
   "source": [
    "# plot a bar chart showing the number of categories\n",
    "\n",
    "df2 = us_videos['category'].value_counts()\n",
    "df2.plot.bar()\n",
    "\n",
    "f1 = plt.gcf()"
   ]
  },
  {
   "cell_type": "code",
   "execution_count": null,
   "metadata": {},
   "outputs": [],
   "source": [
    "# plot a histogram of the category data for all category = 15\n",
    "\n",
    "df3 = us_videos[us_videos['category']==15]\n",
    "df3['likes'].plot.hist()\n",
    "\n",
    "f2 = plt.gcf()\n",
    "\n",
    "# 920 total videos for category = 15, over half of those have 0 to a relatively small amount of likes"
   ]
  },
  {
   "cell_type": "code",
   "execution_count": null,
   "metadata": {},
   "outputs": [],
   "source": []
  },
  {
   "cell_type": "code",
   "execution_count": null,
   "metadata": {},
   "outputs": [],
   "source": []
  },
  {
   "cell_type": "code",
   "execution_count": null,
   "metadata": {},
   "outputs": [],
   "source": []
  },
  {
   "cell_type": "code",
   "execution_count": null,
   "metadata": {},
   "outputs": [],
   "source": []
  },
  {
   "cell_type": "markdown",
   "metadata": {},
   "source": [
    "# Data Analysis and Results\n",
    "\n",
    "*** TO DO!!! still needs to be done\n",
    "\n",
    "We would like to explore the time window between videos being published and becoming trend, with its relations to comments, views, length of descriptions (and possibly some words representation as well), tags and other several features. Specifically, we would like to build models with various machine learning algorithms (e.g., regression, PCA and other representations learning algorithms) to find basic characteristics of trending videos for different countries, and see how these characteristics might vary between countries and languages used.  We would also like to explore this relationship between the time needed for trending with different categories of videos (e.g., music, animal, daily life etc.). \n",
    "In addition, if time permits, we will also explore this relationship for different channels. Since we do not have data with channels, we will need to collect data (e.g., number of scribers, number of videos, average number of views and comments of their videos) by ourselves for such study."
   ]
  },
  {
   "cell_type": "code",
   "execution_count": null,
   "metadata": {},
   "outputs": [],
   "source": []
  },
  {
   "cell_type": "code",
   "execution_count": null,
   "metadata": {},
   "outputs": [],
   "source": []
  },
  {
   "cell_type": "code",
   "execution_count": null,
   "metadata": {},
   "outputs": [],
   "source": []
  },
  {
   "cell_type": "code",
   "execution_count": null,
   "metadata": {},
   "outputs": [],
   "source": []
  },
  {
   "cell_type": "code",
   "execution_count": null,
   "metadata": {},
   "outputs": [],
   "source": []
  },
  {
   "cell_type": "code",
   "execution_count": null,
   "metadata": {},
   "outputs": [],
   "source": []
  },
  {
   "cell_type": "code",
   "execution_count": null,
   "metadata": {},
   "outputs": [],
   "source": []
  },
  {
   "cell_type": "code",
   "execution_count": null,
   "metadata": {},
   "outputs": [],
   "source": []
  },
  {
   "cell_type": "code",
   "execution_count": null,
   "metadata": {},
   "outputs": [],
   "source": []
  },
  {
   "cell_type": "code",
   "execution_count": null,
   "metadata": {},
   "outputs": [],
   "source": []
  },
  {
   "cell_type": "code",
   "execution_count": null,
   "metadata": {},
   "outputs": [],
   "source": []
  },
  {
   "cell_type": "code",
   "execution_count": null,
   "metadata": {},
   "outputs": [],
   "source": []
  },
  {
   "cell_type": "code",
   "execution_count": null,
   "metadata": {},
   "outputs": [],
   "source": []
  },
  {
   "cell_type": "markdown",
   "metadata": {},
   "source": [
    "# Privacy/Ethics Considerations\n",
    "This dataset is released under CC0: Public Domain, which means we can copy, modify, distribute and perform the work, even for commercial purposes, all without asking permission. This dataset was collected using the YouTube API, suggesting this dataset reflects the real situation. Data includes the video title, channel title, publish time, tags, views, likes and dislikes, description, and comment count, but not any personal information that can be used to identify a user. "
   ]
  },
  {
   "cell_type": "markdown",
   "metadata": {},
   "source": [
    "# Conclusions and Discussion\n",
    "\n",
    "*** TO DO!!! still needs to be done\n",
    "\n",
    "YouTube is a large online  platform where users upload, share and watch videos. There are multiple factors that influence the number of views, likes, dislikes, and comments. Predicting whether a video will be popular on Youtube is significant for content creators and advertising companies. In order to make a fare prediction we would most likely have to examine multiple potential factors that might contribute to the popularity of a video - thumbnail, title, description, date published, number of tags used, the number of users already subscribed to the channel, video category, previous user engagement, and possibly other factors. Some video categories might be more popular in some countries compared to others. We hypothesized that videos in US and Canada become trending faster compared to France and Germany. If our hypothesis is wrong we might need to collect more data and explore other potential factors that would better predict how popular YouTube video will get. \n",
    "\n",
    "Our dataset is missing some data that could be useful to make  better predictions. Total channel subscribers count and age of the channel  might also be confounds in our analysis and predictions. \n"
   ]
  }
 ],
 "metadata": {
  "kernelspec": {
   "display_name": "Python 3",
   "language": "python",
   "name": "python3"
  },
  "language_info": {
   "codemirror_mode": {
    "name": "ipython",
    "version": 3
   },
   "file_extension": ".py",
   "mimetype": "text/x-python",
   "name": "python",
   "nbconvert_exporter": "python",
   "pygments_lexer": "ipython3",
   "version": "3.7.0"
  }
 },
 "nbformat": 4,
 "nbformat_minor": 2
}
